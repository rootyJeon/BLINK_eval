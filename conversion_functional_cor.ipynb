{
 "cells": [
  {
   "cell_type": "code",
   "execution_count": null,
   "metadata": {},
   "outputs": [
    {
     "name": "stdout",
     "output_type": "stream",
     "text": [
      "                          idx  \\\n",
      "0  val_Multi-view_Reasoning_1   \n",
      "1  val_Multi-view_Reasoning_2   \n",
      "2  val_Multi-view_Reasoning_3   \n",
      "3  val_Multi-view_Reasoning_4   \n",
      "4  val_Multi-view_Reasoning_5   \n",
      "\n",
      "                                            question              sub_task  \\\n",
      "0  The images are frames from a video. The first ...  Multi-view Reasoning   \n",
      "1  The images are frames from a video. The first ...  Multi-view Reasoning   \n",
      "2  The images are frames from a video. The first ...  Multi-view Reasoning   \n",
      "3  The images are frames from a video. The first ...  Multi-view Reasoning   \n",
      "4  The images are frames from a video. The first ...  Multi-view Reasoning   \n",
      "\n",
      "                                             image_1  \\\n",
      "0  {'bytes': b'\\xff\\xd8\\xff\\xe0\\x00\\x10JFIF\\x00\\x...   \n",
      "1  {'bytes': b'\\xff\\xd8\\xff\\xe0\\x00\\x10JFIF\\x00\\x...   \n",
      "2  {'bytes': b'\\xff\\xd8\\xff\\xe0\\x00\\x10JFIF\\x00\\x...   \n",
      "3  {'bytes': b'\\xff\\xd8\\xff\\xe0\\x00\\x10JFIF\\x00\\x...   \n",
      "4  {'bytes': b'\\xff\\xd8\\xff\\xe0\\x00\\x10JFIF\\x00\\x...   \n",
      "\n",
      "                                             image_2 image_3 image_4  \\\n",
      "0  {'bytes': b'\\xff\\xd8\\xff\\xe0\\x00\\x10JFIF\\x00\\x...    None    None   \n",
      "1  {'bytes': b'\\xff\\xd8\\xff\\xe0\\x00\\x10JFIF\\x00\\x...    None    None   \n",
      "2  {'bytes': b'\\xff\\xd8\\xff\\xe0\\x00\\x10JFIF\\x00\\x...    None    None   \n",
      "3  {'bytes': b'\\xff\\xd8\\xff\\xe0\\x00\\x10JFIF\\x00\\x...    None    None   \n",
      "4  {'bytes': b'\\xff\\xd8\\xff\\xe0\\x00\\x10JFIF\\x00\\x...    None    None   \n",
      "\n",
      "         choices answer                                             prompt  \\\n",
      "0  [left, right]    (B)  The images are frames from a video. The video ...   \n",
      "1  [left, right]    (A)  The images are frames from a video. The video ...   \n",
      "2  [left, right]    (A)  The images are frames from a video. The video ...   \n",
      "3  [left, right]    (A)  The images are frames from a video. The video ...   \n",
      "4  [left, right]    (B)  The images are frames from a video. The video ...   \n",
      "\n",
      "  explanation  \n",
      "0              \n",
      "1              \n",
      "2              \n",
      "3              \n",
      "4              \n",
      "Converted 133 questions to questions.jsonl\n",
      "Saved 133 images to images/\n"
     ]
    }
   ],
   "source": [
    "import pandas as pd\n",
    "import json\n",
    "import os\n",
    "from PIL import Image\n",
    "import io\n",
    "\n",
    "# Read both parquet files\n",
    "df = pd.read_parquet('./blink/functional_cor/val-00000-of-00001.parquet')\n",
    "# df2 = pd.read_parquet('test-00001-of-00002.parquet')\n",
    "\n",
    "# Concatenate the dataframes\n",
    "# df = pd.concat([df1, df2], ignore_index=True)\n",
    "\n",
    "# Create images directory if it doesn't exist\n",
    "os.makedirs('images', exist_ok=True)\n",
    "\n",
    "print(df.head())\n",
    "# Convert to desired format and save\n",
    "questions = []\n",
    "for idx, row in df.iterrows():\n",
    "    # Save image bytes to file\n",
    "    image_bytes = row['image_1']['bytes']\n",
    "    image_name = f\"{idx}_0.webp\"\n",
    "    image_path = os.path.join('images', image_name)\n",
    "    \n",
    "    # Convert bytes to image and save\n",
    "    image = Image.open(io.BytesIO(image_bytes))\n",
    "    image.save(image_path)\n",
    "\n",
    "    # Save image bytes to file\n",
    "    image_bytes_2 = row['image_2']['bytes']\n",
    "    image_name_2 = f\"{idx}_1.webp\"\n",
    "    image_path_2 = os.path.join('images', image_name_2)\n",
    "    \n",
    "    # Convert bytes to image and save\n",
    "    image_2 = Image.open(io.BytesIO(image_bytes_2))\n",
    "    image_2.save(image_path_2)\n",
    "    \n",
    "    question = {\n",
    "        \"question_id\": str(idx),\n",
    "        \"image\": [image_name, image_name_2],\n",
    "        \"text\": row['prompt'],\n",
    "        \"answer\": row['answer'],\n",
    "    }\n",
    "    questions.append(question)\n",
    "\n",
    "# Save as jsonl file\n",
    "output_file = 'questions_functional_cor.jsonl'\n",
    "with open(output_file, 'w') as f:\n",
    "    for q in questions:\n",
    "        f.write(json.dumps(q) + '\\n')\n",
    "\n",
    "print(f\"Converted {len(questions)} questions to {output_file}\")\n",
    "print(f\"Saved {len(questions)} images to images/\")"
   ]
  },
  {
   "cell_type": "code",
   "execution_count": 2,
   "metadata": {},
   "outputs": [
    {
     "ename": "FileNotFoundError",
     "evalue": "[Errno 2] No such file or directory: '/slurm_home/byungjun_alinlab/NewNeoLLaVA/erqa/data/llava_erqa.jsonl'",
     "output_type": "error",
     "traceback": [
      "\u001b[0;31m---------------------------------------------------------------------------\u001b[0m",
      "\u001b[0;31mFileNotFoundError\u001b[0m                         Traceback (most recent call last)",
      "Cell \u001b[0;32mIn[2], line 1\u001b[0m\n\u001b[0;32m----> 1\u001b[0m \u001b[38;5;28;01mwith\u001b[39;00m \u001b[38;5;28;43mopen\u001b[39;49m\u001b[43m(\u001b[49m\u001b[38;5;124;43m\"\u001b[39;49m\u001b[38;5;124;43m/slurm_home/byungjun_alinlab/NewNeoLLaVA/erqa/data/llava_erqa.jsonl\u001b[39;49m\u001b[38;5;124;43m\"\u001b[39;49m\u001b[43m)\u001b[49m \u001b[38;5;28;01mas\u001b[39;00m f:\n\u001b[1;32m      2\u001b[0m     dataset \u001b[38;5;241m=\u001b[39m []\n\u001b[1;32m      3\u001b[0m     \u001b[38;5;28;01mfor\u001b[39;00m line \u001b[38;5;129;01min\u001b[39;00m f:\n",
      "File \u001b[0;32m~/anaconda3/envs/llava-3/lib/python3.10/site-packages/IPython/core/interactiveshell.py:324\u001b[0m, in \u001b[0;36m_modified_open\u001b[0;34m(file, *args, **kwargs)\u001b[0m\n\u001b[1;32m    317\u001b[0m \u001b[38;5;28;01mif\u001b[39;00m file \u001b[38;5;129;01min\u001b[39;00m {\u001b[38;5;241m0\u001b[39m, \u001b[38;5;241m1\u001b[39m, \u001b[38;5;241m2\u001b[39m}:\n\u001b[1;32m    318\u001b[0m     \u001b[38;5;28;01mraise\u001b[39;00m \u001b[38;5;167;01mValueError\u001b[39;00m(\n\u001b[1;32m    319\u001b[0m         \u001b[38;5;124mf\u001b[39m\u001b[38;5;124m\"\u001b[39m\u001b[38;5;124mIPython won\u001b[39m\u001b[38;5;124m'\u001b[39m\u001b[38;5;124mt let you open fd=\u001b[39m\u001b[38;5;132;01m{\u001b[39;00mfile\u001b[38;5;132;01m}\u001b[39;00m\u001b[38;5;124m by default \u001b[39m\u001b[38;5;124m\"\u001b[39m\n\u001b[1;32m    320\u001b[0m         \u001b[38;5;124m\"\u001b[39m\u001b[38;5;124mas it is likely to crash IPython. If you know what you are doing, \u001b[39m\u001b[38;5;124m\"\u001b[39m\n\u001b[1;32m    321\u001b[0m         \u001b[38;5;124m\"\u001b[39m\u001b[38;5;124myou can use builtins\u001b[39m\u001b[38;5;124m'\u001b[39m\u001b[38;5;124m open.\u001b[39m\u001b[38;5;124m\"\u001b[39m\n\u001b[1;32m    322\u001b[0m     )\n\u001b[0;32m--> 324\u001b[0m \u001b[38;5;28;01mreturn\u001b[39;00m \u001b[43mio_open\u001b[49m\u001b[43m(\u001b[49m\u001b[43mfile\u001b[49m\u001b[43m,\u001b[49m\u001b[43m \u001b[49m\u001b[38;5;241;43m*\u001b[39;49m\u001b[43margs\u001b[49m\u001b[43m,\u001b[49m\u001b[43m \u001b[49m\u001b[38;5;241;43m*\u001b[39;49m\u001b[38;5;241;43m*\u001b[39;49m\u001b[43mkwargs\u001b[49m\u001b[43m)\u001b[49m\n",
      "\u001b[0;31mFileNotFoundError\u001b[0m: [Errno 2] No such file or directory: '/slurm_home/byungjun_alinlab/NewNeoLLaVA/erqa/data/llava_erqa.jsonl'"
     ]
    }
   ],
   "source": [
    "with open(\"/slurm_home/byungjun_alinlab/NewNeoLLaVA/erqa/data/llava_erqa.jsonl\") as f:\n",
    "    dataset = []\n",
    "    for line in f:\n",
    "        dataset.append(json.loads(line))\n",
    "\n",
    "dataset[0]"
   ]
  },
  {
   "cell_type": "code",
   "execution_count": null,
   "metadata": {},
   "outputs": [
    {
     "name": "stdout",
     "output_type": "stream",
     "text": [
      "{'id': 0, 'question': 'If the yellow robot gripper follows the yellow trajectory, what will happen? Choices: A. Robot puts the soda on the wooden steps. B. Robot moves the soda in front of the wooden steps. C. Robot moves the soda to the very top of the wooden steps. D. Robot picks up the soda can and moves it up. Please answer directly with only the letter of the correct option and nothing else.', 'answer': 'A', 'question_type': 'Trajectory Reasoning', 'visual_indices': [0], 'image_paths': ['images/example_0_image_0.png'], 'llava_prompt': '<image>images/example_0_image_0.png</image>\\nQuestion: If the yellow robot gripper follows the yellow trajectory, what will happen? Choices: A. Robot puts the soda on the wooden steps. B. Robot moves the soda in front of the wooden steps. C. Robot moves the soda to the very top of the wooden steps. D. Robot picks up the soda can and moves it up. Please answer directly with only the letter of the correct option and nothing else.\\n'}\n"
     ]
    }
   ],
   "source": [
    "import json \n",
    "with open(\"/slurm_home/byungjun_alinlab/NewNeoLLaVA/erqa/data/benchmark.json\") as f:\n",
    "    data = json.load(f)\n",
    "print(data[0])"
   ]
  },
  {
   "cell_type": "code",
   "execution_count": null,
   "metadata": {},
   "outputs": [],
   "source": [
    "new_dataset = []\n",
    "for dataset_d, data_d in zip(dataset, data):\n",
    "    dataset_d[\"answer\"] = data_d[\"answer\"]\n",
    "    dataset_d[\"category\"] = data_d[\"question_type\"]\n",
    "    new_dataset.append(dataset_d)\n",
    "\n",
    "with open(\"/slurm_home/byungjun_alinlab/NewNeoLLaVA/erqa/data/llava_erqa.jsonl\", \"w\") as f:\n",
    "    for d in new_dataset:\n",
    "        f.write(json.dumps(d) + \"\\n\")\n",
    "        \n"
   ]
  }
 ],
 "metadata": {
  "kernelspec": {
   "display_name": "llava-3",
   "language": "python",
   "name": "python3"
  },
  "language_info": {
   "codemirror_mode": {
    "name": "ipython",
    "version": 3
   },
   "file_extension": ".py",
   "mimetype": "text/x-python",
   "name": "python",
   "nbconvert_exporter": "python",
   "pygments_lexer": "ipython3",
   "version": "3.10.16"
  }
 },
 "nbformat": 4,
 "nbformat_minor": 2
}
